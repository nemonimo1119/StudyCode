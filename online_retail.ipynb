{
 "cells": [
  {
   "cell_type": "markdown",
   "metadata": {},
   "source": [
    "# 転職者向け　ケーススタディコース\n",
    "\n",
    "## Day1: Online Retail\n",
    "https://archive.ics.uci.edu/ml/datasets/Online+Retail\n",
    "\n",
    "ver1.0<br>\n",
    "copyright 2019 DataMix Co., Ltd."
   ]
  },
  {
   "cell_type": "markdown",
   "metadata": {},
   "source": [
    "## 0. ライブラリのインポート"
   ]
  },
  {
   "cell_type": "markdown",
   "metadata": {},
   "source": [
    "もしimportできないライブラリがあったら、pip installにてライブラリをダウンロードしましょう"
   ]
  },
  {
   "cell_type": "code",
   "execution_count": 1,
   "metadata": {},
   "outputs": [],
   "source": [
    "import pandas as pd\n",
    "import numpy as np\n",
    "import pymysql\n",
    "import pandas.io.sql as psql\n",
    "import matplotlib.pyplot as plt\n",
    "import scipy.spatial as sp\n",
    "import time"
   ]
  },
  {
   "cell_type": "markdown",
   "metadata": {},
   "source": [
    "## 1. データの読み込み"
   ]
  },
  {
   "cell_type": "markdown",
   "metadata": {},
   "source": [
    "### データベースへ接続"
   ]
  },
  {
   "cell_type": "code",
   "execution_count": 2,
   "metadata": {
    "scrolled": true
   },
   "outputs": [
    {
     "data": {
      "text/plain": [
       "<pymysql.connections.Connection at 0x9876860>"
      ]
     },
     "execution_count": 2,
     "metadata": {},
     "output_type": "execute_result"
    }
   ],
   "source": [
    "con = pymysql.connect(\n",
    "    host='datamix-school-material.csbsmnjyxb52.ap-northeast-1.rds.amazonaws.com',\n",
    "    user='user1',\n",
    "    password='user1',\n",
    "    db='online_retail',\n",
    "    charset='utf8mb4',\n",
    "    cursorclass=pymysql.cursors.DictCursor)\n",
    "con"
   ]
  },
  {
   "cell_type": "markdown",
   "metadata": {},
   "source": [
    "### 【演習1】SQLによるデータ抽出\n",
    "<b>各顧客（CustomerID）に対して、それぞれの商品（StockCode）を、何個（Quantity）卸したのかを集計してみましょう！</b>\n",
    "\n",
    "- 必要なカラムはなにか？\n",
    "- 除外しておいた方が良いデータはないか？"
   ]
  },
  {
   "cell_type": "code",
   "execution_count": 14,
   "metadata": {},
   "outputs": [],
   "source": [
    "sql = \"\"\"\n",
    "SELECT *\n",
    "-- SELECT InvoiceNo, StockCode, Quantity, CustomerID, Country \n",
    "FROM sales_log\n",
    "WHERE Quantity > 0 and UnitPrice > 0\n",
    "\"\"\""
   ]
  },
  {
   "cell_type": "code",
   "execution_count": 15,
   "metadata": {},
   "outputs": [],
   "source": [
    "data = psql.read_sql(con=con, sql=sql)"
   ]
  },
  {
   "cell_type": "code",
   "execution_count": 17,
   "metadata": {},
   "outputs": [],
   "source": [
    "data = data[data[\"CustomerID\"]!=\"\"]\n",
    "data = data[data[\"Description\"]!=\"\"]\n",
    "data = data[[\"InvoiceNo\", \"StockCode\", \"Quantity\", \"CustomerID\", \"Country\"]]"
   ]
  },
  {
   "cell_type": "code",
   "execution_count": null,
   "metadata": {},
   "outputs": [],
   "source": []
  },
  {
   "cell_type": "code",
   "execution_count": 5,
   "metadata": {
    "scrolled": true
   },
   "outputs": [
    {
     "data": {
      "text/html": [
       "<div>\n",
       "<style scoped>\n",
       "    .dataframe tbody tr th:only-of-type {\n",
       "        vertical-align: middle;\n",
       "    }\n",
       "\n",
       "    .dataframe tbody tr th {\n",
       "        vertical-align: top;\n",
       "    }\n",
       "\n",
       "    .dataframe thead th {\n",
       "        text-align: right;\n",
       "    }\n",
       "</style>\n",
       "<table border=\"1\" class=\"dataframe\">\n",
       "  <thead>\n",
       "    <tr style=\"text-align: right;\">\n",
       "      <th></th>\n",
       "      <th>InvoiceNo</th>\n",
       "      <th>StockCode</th>\n",
       "      <th>Quantity</th>\n",
       "      <th>CustomerID</th>\n",
       "      <th>Country</th>\n",
       "    </tr>\n",
       "  </thead>\n",
       "  <tbody>\n",
       "    <tr>\n",
       "      <th>0</th>\n",
       "      <td>536365</td>\n",
       "      <td>85123A</td>\n",
       "      <td>6</td>\n",
       "      <td>17850</td>\n",
       "      <td>United Kingdom</td>\n",
       "    </tr>\n",
       "    <tr>\n",
       "      <th>1</th>\n",
       "      <td>536365</td>\n",
       "      <td>71053</td>\n",
       "      <td>6</td>\n",
       "      <td>17850</td>\n",
       "      <td>United Kingdom</td>\n",
       "    </tr>\n",
       "    <tr>\n",
       "      <th>2</th>\n",
       "      <td>536365</td>\n",
       "      <td>84406B</td>\n",
       "      <td>8</td>\n",
       "      <td>17850</td>\n",
       "      <td>United Kingdom</td>\n",
       "    </tr>\n",
       "    <tr>\n",
       "      <th>3</th>\n",
       "      <td>536365</td>\n",
       "      <td>84029G</td>\n",
       "      <td>6</td>\n",
       "      <td>17850</td>\n",
       "      <td>United Kingdom</td>\n",
       "    </tr>\n",
       "    <tr>\n",
       "      <th>4</th>\n",
       "      <td>536365</td>\n",
       "      <td>84029E</td>\n",
       "      <td>6</td>\n",
       "      <td>17850</td>\n",
       "      <td>United Kingdom</td>\n",
       "    </tr>\n",
       "  </tbody>\n",
       "</table>\n",
       "</div>"
      ],
      "text/plain": [
       "  InvoiceNo StockCode  Quantity CustomerID         Country\n",
       "0    536365    85123A         6      17850  United Kingdom\n",
       "1    536365     71053         6      17850  United Kingdom\n",
       "2    536365    84406B         8      17850  United Kingdom\n",
       "3    536365    84029G         6      17850  United Kingdom\n",
       "4    536365    84029E         6      17850  United Kingdom"
      ]
     },
     "execution_count": 5,
     "metadata": {},
     "output_type": "execute_result"
    }
   ],
   "source": [
    "data.head()"
   ]
  },
  {
   "cell_type": "code",
   "execution_count": 20,
   "metadata": {
    "scrolled": false
   },
   "outputs": [
    {
     "data": {
      "text/plain": [
       "(168662, 5)"
      ]
     },
     "execution_count": 20,
     "metadata": {},
     "output_type": "execute_result"
    }
   ],
   "source": [
    "data.shape"
   ]
  },
  {
   "cell_type": "markdown",
   "metadata": {},
   "source": [
    "## 2. 顧客ID×商品コードのテーブルを作成"
   ]
  },
  {
   "cell_type": "markdown",
   "metadata": {},
   "source": [
    "### 【演習2】Pandasを使ったデータ加工\n",
    "<b>Pandasを使って、顧客ID（CustomerID）×商品コード（StockCode）のテーブルを作成しましょう</b>\n",
    "\n",
    "- Pandasのどの関数を使ったら良いか？\n",
    "- テーブルにおける、行・列・行列内の値、は何を指定すれば良いか？"
   ]
  },
  {
   "cell_type": "code",
   "execution_count": null,
   "metadata": {
    "collapsed": true
   },
   "outputs": [],
   "source": [
    "customer_stock_matrix = "
   ]
  },
  {
   "cell_type": "code",
   "execution_count": null,
   "metadata": {
    "collapsed": true,
    "scrolled": false
   },
   "outputs": [],
   "source": [
    "customer_stock_matrix.head()"
   ]
  },
  {
   "cell_type": "code",
   "execution_count": null,
   "metadata": {
    "collapsed": true,
    "scrolled": true
   },
   "outputs": [],
   "source": [
    "customer_stock_matrix.shape"
   ]
  },
  {
   "cell_type": "markdown",
   "metadata": {},
   "source": [
    "## 3. レコメンデーション用の関数を作成"
   ]
  },
  {
   "cell_type": "markdown",
   "metadata": {},
   "source": [
    "### 【演習3】レコメンドする関数を作成しましょう\n",
    "\n",
    "<b>ある顧客に対して、新たな商品をレコメンデーションする関数を完成させましょう</b>"
   ]
  },
  {
   "cell_type": "markdown",
   "metadata": {},
   "source": [
    "- 準備(Pandas Dataframeから、index, columns, 行列を取得しておく)"
   ]
  },
  {
   "cell_type": "code",
   "execution_count": null,
   "metadata": {
    "collapsed": true,
    "scrolled": false
   },
   "outputs": [],
   "source": [
    "stock_list = customer_stock_matrix.columns\n",
    "customer_list = customer_stock_matrix.index\n",
    "customer_stock_matrix_array = np.array(customer_stock_matrix)\n",
    "\n",
    "print('description of each stock: \\n', stock_list[0:5])\n",
    "print('\\ncustomer id: \\n', customer_list[0:5])\n",
    "print('\\ncustomer id - stock description matrix: \\n', customer_stock_matrix_array[0:5])"
   ]
  },
  {
   "cell_type": "markdown",
   "metadata": {},
   "source": [
    "- あるレコメンドしたい顧客IDを引数とした際に、顧客リスト（customer_list）から、レコメンドしたい顧客のindexを取り出す関数"
   ]
  },
  {
   "cell_type": "code",
   "execution_count": null,
   "metadata": {
    "collapsed": true
   },
   "outputs": [],
   "source": [
    "def get_customer_list_index(customer_list, target_customer_id):\n",
    "    for index in range(len(customer_list)):\n",
    "        if customer_list[index] == target_customer_id:\n",
    "            target_customer_index = index\n",
    "    return target_customer_index"
   ]
  },
  {
   "cell_type": "code",
   "execution_count": null,
   "metadata": {
    "collapsed": true,
    "scrolled": false
   },
   "outputs": [],
   "source": [
    "# サンプル\n",
    "target_customer_id = '12346'\n",
    "target_customer_index = get_customer_list_index(customer_list, target_customer_id)\n",
    "target_customer_index"
   ]
  },
  {
   "cell_type": "markdown",
   "metadata": {},
   "source": [
    "- 二つのベクトルのコサイン類似度を計算する関数"
   ]
  },
  {
   "cell_type": "code",
   "execution_count": null,
   "metadata": {
    "collapsed": true
   },
   "outputs": [],
   "source": [
    "def get_cosine_similarity(x, y):  \n",
    "    # cosine類似度　= 1 - cosine距離\n",
    "    return 1- sp.distance.cosine(x, y)"
   ]
  },
  {
   "cell_type": "code",
   "execution_count": null,
   "metadata": {
    "collapsed": true,
    "scrolled": true
   },
   "outputs": [],
   "source": [
    "# サンプル\n",
    "x = [0.1, 0.5, 0.9, 0]\n",
    "y = [0, 0.35, 0.65, 1]\n",
    "get_cosine_similarity(x, y)"
   ]
  },
  {
   "cell_type": "markdown",
   "metadata": {},
   "source": [
    "- レコメンドしたい顧客と、全顧客との類似度を計算する関数"
   ]
  },
  {
   "cell_type": "code",
   "execution_count": null,
   "metadata": {
    "collapsed": true
   },
   "outputs": [],
   "source": [
    "def get_user_similarity(customer_stock_matrix_array, target_customer_index):\n",
    "    user_similarity = []\n",
    "    target_user_row = customer_stock_matrix_array[target_customer_index]\n",
    "\n",
    "    for row in customer_stock_matrix_array:\n",
    "        similarity = get_cosine_similarity(target_user_row, row)\n",
    "        user_similarity.append(similarity)\n",
    "\n",
    "    user_similarity = np.array(user_similarity)\n",
    "    return user_similarity"
   ]
  },
  {
   "cell_type": "code",
   "execution_count": null,
   "metadata": {
    "collapsed": true,
    "scrolled": false
   },
   "outputs": [],
   "source": [
    "user_similarity = get_user_similarity(customer_stock_matrix_array, target_customer_index)\n",
    "user_similarity"
   ]
  },
  {
   "cell_type": "markdown",
   "metadata": {},
   "source": [
    "- レコメンドしたい顧客に対してコサイン類似度の高いユーザーTopN人を対象に、商品の平均類似度を計算する関数"
   ]
  },
  {
   "cell_type": "code",
   "execution_count": null,
   "metadata": {
    "collapsed": true
   },
   "outputs": [],
   "source": [
    "def get_average_score_of_item(user_similarity, customer_stock_matrix_array, user_top_N):\n",
    "    # TopN人の類似度と購入数量行列を取得\n",
    "    idx = user_similarity.argsort()[::-1][1:user_top_N+1]\n",
    "    selected_user_similarity = user_similarity[idx]\n",
    "    selected_matrix = customer_stock_matrix_array[idx]\n",
    "    \n",
    "    # ユーザーTopN人を対象に、商品ごとの平均類似度を計算\n",
    "    avg_score = []\n",
    "    for col_idx in range(selected_matrix.shape[1]):\n",
    "        weight_score = sum(selected_matrix[:, col_idx] * selected_user_similarity)\n",
    "        similarity_sum = sum(selected_user_similarity[selected_user_similarity > 0])\n",
    "        avg_score.append(weight_score / similarity_sum)\n",
    "    avg_score = np.array(avg_score)\n",
    "    return avg_score"
   ]
  },
  {
   "cell_type": "code",
   "execution_count": null,
   "metadata": {
    "collapsed": true,
    "scrolled": false
   },
   "outputs": [],
   "source": [
    "average_score_of_item = get_average_score_of_item(user_similarity, customer_stock_matrix_array, user_top_N=20)\n",
    "average_score_of_item"
   ]
  },
  {
   "cell_type": "code",
   "execution_count": null,
   "metadata": {
    "collapsed": true,
    "scrolled": true
   },
   "outputs": [],
   "source": [
    "# 商品の平均類似度のヒストグラム\n",
    "import matplotlib.pyplot as plt\n",
    "plt.hist(average_score_of_item, bins=50, range=(0, 4))\n",
    "plt.show()"
   ]
  },
  {
   "cell_type": "markdown",
   "metadata": {},
   "source": [
    "-  レコメンドする必要がない、既に購入済の商品リストを抽出"
   ]
  },
  {
   "cell_type": "code",
   "execution_count": null,
   "metadata": {
    "collapsed": true
   },
   "outputs": [],
   "source": [
    "already_ordered_product = stock_list[np.where(customer_stock_matrix[customer_stock_matrix.index == target_customer_id])[1]]\n",
    "already_ordered_product"
   ]
  },
  {
   "cell_type": "markdown",
   "metadata": {},
   "source": [
    "- 平均類度の高い上位N商品をオススメとして表示する関数"
   ]
  },
  {
   "cell_type": "code",
   "execution_count": null,
   "metadata": {
    "collapsed": true
   },
   "outputs": [],
   "source": [
    "def print_recommendation_items(stock_list, average_score_of_item, already_ordered_product, recommend_top_N):\n",
    "    counter = 0\n",
    "    print(\"■レコメンド商品リスト:\")\n",
    "    for recommended_product in stock_list[average_score_of_item.argsort()[::-1]]:\n",
    "        if recommended_product not in already_ordered_product:\n",
    "            print(counter+1,recommended_product)\n",
    "            counter += 1\n",
    "            if recommend_top_N <= counter:\n",
    "                break"
   ]
  },
  {
   "cell_type": "code",
   "execution_count": null,
   "metadata": {
    "collapsed": true,
    "scrolled": false
   },
   "outputs": [],
   "source": [
    "print_recommendation_items(stock_list, average_score_of_item, already_ordered_product, recommend_top_N=10)"
   ]
  },
  {
   "cell_type": "markdown",
   "metadata": {},
   "source": [
    "### 【演習3】レコメンドをする関数を作成しましょう\n",
    "\n",
    "<b>上記関数やコードをまとめて、ある顧客に対して、新たな商品をレコメンデーションする1つの関数を完成させ、実際に関数を実行させましょう</b>\n",
    "\n",
    "(目安時間: 20分)"
   ]
  },
  {
   "cell_type": "code",
   "execution_count": null,
   "metadata": {
    "collapsed": true
   },
   "outputs": [],
   "source": [
    "def recommend(target_customer_id, customer_stock_matrix, user_top_N, recommend_top_N):\n",
    "    pass"
   ]
  },
  {
   "cell_type": "code",
   "execution_count": 1,
   "metadata": {
    "collapsed": true,
    "scrolled": false
   },
   "outputs": [],
   "source": [
    "# 関数を実行させましょう (Enter your code)\n"
   ]
  }
 ],
 "metadata": {
  "kernelspec": {
   "display_name": "Python 3",
   "language": "python",
   "name": "python3"
  },
  "language_info": {
   "codemirror_mode": {
    "name": "ipython",
    "version": 3
   },
   "file_extension": ".py",
   "mimetype": "text/x-python",
   "name": "python",
   "nbconvert_exporter": "python",
   "pygments_lexer": "ipython3",
   "version": "3.7.1"
  }
 },
 "nbformat": 4,
 "nbformat_minor": 2
}
