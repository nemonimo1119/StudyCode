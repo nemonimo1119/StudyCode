{
 "cells": [
  {
   "cell_type": "markdown",
   "metadata": {},
   "source": [
    "# Online Retail\n",
    "https://archive.ics.uci.edu/ml/datasets/Online+Retail"
   ]
  },
  {
   "cell_type": "markdown",
   "metadata": {},
   "source": [
    "## 0. ライブラリのインポート"
   ]
  },
  {
   "cell_type": "markdown",
   "metadata": {},
   "source": [
    "importできないライブラリが存在する場合、pip installでライブラリをインストールする。"
   ]
  },
  {
   "cell_type": "code",
   "execution_count": 1,
   "metadata": {},
   "outputs": [],
   "source": [
    "import pandas as pd\n",
    "import numpy as np\n",
    "import pymysql\n",
    "import pandas.io.sql as psql\n",
    "import matplotlib.pyplot as plt\n",
    "import scipy.spatial as sp\n",
    "import time"
   ]
  },
  {
   "cell_type": "markdown",
   "metadata": {},
   "source": [
    "## 1. データの読み込み"
   ]
  },
  {
   "cell_type": "markdown",
   "metadata": {},
   "source": [
    "### AWSデータベースへ接続"
   ]
  },
  {
   "cell_type": "code",
   "execution_count": 2,
   "metadata": {
    "scrolled": true
   },
   "outputs": [
    {
     "data": {
      "text/plain": [
       "<pymysql.connections.Connection at 0x9885710>"
      ]
     },
     "execution_count": 2,
     "metadata": {},
     "output_type": "execute_result"
    }
   ],
   "source": [
    "con = pymysql.connect(\n",
    "    host='datamix-school-material.csbsmnjyxb52.ap-northeast-1.rds.amazonaws.com',\n",
    "    user='user1',\n",
    "    password='user1',\n",
    "    db='online_retail',\n",
    "    charset='utf8mb4',\n",
    "    cursorclass=pymysql.cursors.DictCursor)\n",
    "con"
   ]
  },
  {
   "cell_type": "markdown",
   "metadata": {},
   "source": [
    "### SQLによるデータ抽出\n",
    "<b>各顧客（CustomerID）に対して、それぞれの商品（StockCode）を、何個（Quantity）卸したのかを集計する。</b>\n",
    "\n",
    "- 必要なカラムはなにか。\n",
    "- 除外しておいた方が良いデータはなにか。"
   ]
  },
  {
   "cell_type": "code",
   "execution_count": 3,
   "metadata": {},
   "outputs": [],
   "source": [
    "sql = \"\"\"\n",
    "SELECT CustomerID, StockCode,\n",
    "MAX(Description) AS description, \n",
    "SUM(Quantity) AS quantity \n",
    "FROM sales_log \n",
    "WHERE CustomerID <> '' \n",
    "AND description <> '' \n",
    "AND Quantity > 0  \n",
    "AND Unitprice > 0 \n",
    "GROUP BY CustomerID, StockCode; \n",
    "\"\"\""
   ]
  },
  {
   "cell_type": "code",
   "execution_count": 4,
   "metadata": {},
   "outputs": [],
   "source": [
    "data = psql.read_sql(con=con, sql=sql)"
   ]
  },
  {
   "cell_type": "code",
   "execution_count": 5,
   "metadata": {
    "scrolled": true
   },
   "outputs": [
    {
     "data": {
      "text/html": [
       "<div>\n",
       "<style scoped>\n",
       "    .dataframe tbody tr th:only-of-type {\n",
       "        vertical-align: middle;\n",
       "    }\n",
       "\n",
       "    .dataframe tbody tr th {\n",
       "        vertical-align: top;\n",
       "    }\n",
       "\n",
       "    .dataframe thead th {\n",
       "        text-align: right;\n",
       "    }\n",
       "</style>\n",
       "<table border=\"1\" class=\"dataframe\">\n",
       "  <thead>\n",
       "    <tr style=\"text-align: right;\">\n",
       "      <th></th>\n",
       "      <th>CustomerID</th>\n",
       "      <th>StockCode</th>\n",
       "      <th>description</th>\n",
       "      <th>quantity</th>\n",
       "    </tr>\n",
       "  </thead>\n",
       "  <tbody>\n",
       "    <tr>\n",
       "      <th>0</th>\n",
       "      <td>12346</td>\n",
       "      <td>23166</td>\n",
       "      <td>MEDIUM CERAMIC TOP STORAGE JAR</td>\n",
       "      <td>74215.0</td>\n",
       "    </tr>\n",
       "    <tr>\n",
       "      <th>1</th>\n",
       "      <td>12347</td>\n",
       "      <td>16008</td>\n",
       "      <td>SMALL FOLDING SCISSOR(POINTED EDGE)</td>\n",
       "      <td>24.0</td>\n",
       "    </tr>\n",
       "    <tr>\n",
       "      <th>2</th>\n",
       "      <td>12347</td>\n",
       "      <td>17021</td>\n",
       "      <td>NAMASTE SWAGAT INCENSE</td>\n",
       "      <td>36.0</td>\n",
       "    </tr>\n",
       "    <tr>\n",
       "      <th>3</th>\n",
       "      <td>12347</td>\n",
       "      <td>20665</td>\n",
       "      <td>RED RETROSPOT PURSE</td>\n",
       "      <td>6.0</td>\n",
       "    </tr>\n",
       "    <tr>\n",
       "      <th>4</th>\n",
       "      <td>12347</td>\n",
       "      <td>20719</td>\n",
       "      <td>WOODLAND CHARLOTTE BAG</td>\n",
       "      <td>10.0</td>\n",
       "    </tr>\n",
       "  </tbody>\n",
       "</table>\n",
       "</div>"
      ],
      "text/plain": [
       "  CustomerID StockCode                          description  quantity\n",
       "0      12346     23166       MEDIUM CERAMIC TOP STORAGE JAR   74215.0\n",
       "1      12347     16008  SMALL FOLDING SCISSOR(POINTED EDGE)      24.0\n",
       "2      12347     17021               NAMASTE SWAGAT INCENSE      36.0\n",
       "3      12347     20665                 RED RETROSPOT PURSE        6.0\n",
       "4      12347     20719               WOODLAND CHARLOTTE BAG      10.0"
      ]
     },
     "execution_count": 5,
     "metadata": {},
     "output_type": "execute_result"
    }
   ],
   "source": [
    "data.head()"
   ]
  },
  {
   "cell_type": "code",
   "execution_count": 6,
   "metadata": {
    "scrolled": false
   },
   "outputs": [
    {
     "data": {
      "text/plain": [
       "(128406, 4)"
      ]
     },
     "execution_count": 6,
     "metadata": {},
     "output_type": "execute_result"
    }
   ],
   "source": [
    "data.shape"
   ]
  },
  {
   "cell_type": "markdown",
   "metadata": {},
   "source": [
    "## 2. 顧客ID×商品コードのテーブルを作成"
   ]
  },
  {
   "cell_type": "markdown",
   "metadata": {},
   "source": [
    "### Pandasを使ったデータ加工\n",
    "<b>Pandasを使って、顧客ID（CustomerID）×商品コード（StockCode）のテーブルを作成する。</b>\n",
    "\n",
    "- Pandasのどの関数を使ったらよいか。\n",
    "- テーブルにおける、行・列・行列内の値、は何を指定すればよいか。"
   ]
  },
  {
   "cell_type": "code",
   "execution_count": 7,
   "metadata": {},
   "outputs": [],
   "source": [
    "customer_stock_matrix = pd.pivot_table(data, index=\"CustomerID\", columns=\"description\", values=\"quantity\")\n",
    "customer_stock_matrix = customer_stock_matrix.fillna(0)"
   ]
  },
  {
   "cell_type": "code",
   "execution_count": 8,
   "metadata": {
    "scrolled": false
   },
   "outputs": [
    {
     "data": {
      "text/html": [
       "<div>\n",
       "<style scoped>\n",
       "    .dataframe tbody tr th:only-of-type {\n",
       "        vertical-align: middle;\n",
       "    }\n",
       "\n",
       "    .dataframe tbody tr th {\n",
       "        vertical-align: top;\n",
       "    }\n",
       "\n",
       "    .dataframe thead th {\n",
       "        text-align: right;\n",
       "    }\n",
       "</style>\n",
       "<table border=\"1\" class=\"dataframe\">\n",
       "  <thead>\n",
       "    <tr style=\"text-align: right;\">\n",
       "      <th>description</th>\n",
       "      <th>10 COLOUR SPACEBOY PEN</th>\n",
       "      <th>12 COLOURED PARTY BALLOONS</th>\n",
       "      <th>12 DAISY PEGS IN WOOD BOX</th>\n",
       "      <th>12 EGG HOUSE PAINTED WOOD</th>\n",
       "      <th>12 IVORY ROSE PEG PLACE SETTINGS</th>\n",
       "      <th>12 MESSAGE CARDS WITH ENVELOPES</th>\n",
       "      <th>12 PENCIL SMALL TUBE WOODLAND</th>\n",
       "      <th>12 PENCILS SMALL TUBE RED RETROSPOT</th>\n",
       "      <th>12 PENCILS SMALL TUBE SKULL</th>\n",
       "      <th>12 PENCILS TALL TUBE POSY</th>\n",
       "      <th>...</th>\n",
       "      <th>ZINC STAR T-LIGHT HOLDER</th>\n",
       "      <th>ZINC SWEETHEART SOAP DISH</th>\n",
       "      <th>ZINC SWEETHEART WIRE LETTER RACK</th>\n",
       "      <th>ZINC T-LIGHT HOLDER STAR LARGE</th>\n",
       "      <th>ZINC T-LIGHT HOLDER STARS LARGE</th>\n",
       "      <th>ZINC T-LIGHT HOLDER STARS SMALL</th>\n",
       "      <th>ZINC TOP  2 DOOR WOODEN SHELF</th>\n",
       "      <th>ZINC WILLIE WINKIE  CANDLE STICK</th>\n",
       "      <th>ZINC WIRE KITCHEN ORGANISER</th>\n",
       "      <th>ZINC WIRE SWEETHEART LETTER TRAY</th>\n",
       "    </tr>\n",
       "    <tr>\n",
       "      <th>CustomerID</th>\n",
       "      <th></th>\n",
       "      <th></th>\n",
       "      <th></th>\n",
       "      <th></th>\n",
       "      <th></th>\n",
       "      <th></th>\n",
       "      <th></th>\n",
       "      <th></th>\n",
       "      <th></th>\n",
       "      <th></th>\n",
       "      <th></th>\n",
       "      <th></th>\n",
       "      <th></th>\n",
       "      <th></th>\n",
       "      <th></th>\n",
       "      <th></th>\n",
       "      <th></th>\n",
       "      <th></th>\n",
       "      <th></th>\n",
       "      <th></th>\n",
       "      <th></th>\n",
       "    </tr>\n",
       "  </thead>\n",
       "  <tbody>\n",
       "    <tr>\n",
       "      <th>12346</th>\n",
       "      <td>0.0</td>\n",
       "      <td>0.0</td>\n",
       "      <td>0.0</td>\n",
       "      <td>0.0</td>\n",
       "      <td>0.0</td>\n",
       "      <td>0.0</td>\n",
       "      <td>0.0</td>\n",
       "      <td>0.0</td>\n",
       "      <td>0.0</td>\n",
       "      <td>0.0</td>\n",
       "      <td>...</td>\n",
       "      <td>0.0</td>\n",
       "      <td>0.0</td>\n",
       "      <td>0.0</td>\n",
       "      <td>0.0</td>\n",
       "      <td>0.0</td>\n",
       "      <td>0.0</td>\n",
       "      <td>0.0</td>\n",
       "      <td>0.0</td>\n",
       "      <td>0.0</td>\n",
       "      <td>0.0</td>\n",
       "    </tr>\n",
       "    <tr>\n",
       "      <th>12347</th>\n",
       "      <td>0.0</td>\n",
       "      <td>0.0</td>\n",
       "      <td>0.0</td>\n",
       "      <td>0.0</td>\n",
       "      <td>0.0</td>\n",
       "      <td>0.0</td>\n",
       "      <td>0.0</td>\n",
       "      <td>0.0</td>\n",
       "      <td>0.0</td>\n",
       "      <td>0.0</td>\n",
       "      <td>...</td>\n",
       "      <td>0.0</td>\n",
       "      <td>0.0</td>\n",
       "      <td>0.0</td>\n",
       "      <td>0.0</td>\n",
       "      <td>0.0</td>\n",
       "      <td>0.0</td>\n",
       "      <td>0.0</td>\n",
       "      <td>0.0</td>\n",
       "      <td>0.0</td>\n",
       "      <td>0.0</td>\n",
       "    </tr>\n",
       "    <tr>\n",
       "      <th>12348</th>\n",
       "      <td>0.0</td>\n",
       "      <td>0.0</td>\n",
       "      <td>0.0</td>\n",
       "      <td>0.0</td>\n",
       "      <td>0.0</td>\n",
       "      <td>0.0</td>\n",
       "      <td>0.0</td>\n",
       "      <td>0.0</td>\n",
       "      <td>0.0</td>\n",
       "      <td>0.0</td>\n",
       "      <td>...</td>\n",
       "      <td>0.0</td>\n",
       "      <td>0.0</td>\n",
       "      <td>0.0</td>\n",
       "      <td>0.0</td>\n",
       "      <td>0.0</td>\n",
       "      <td>0.0</td>\n",
       "      <td>0.0</td>\n",
       "      <td>0.0</td>\n",
       "      <td>0.0</td>\n",
       "      <td>0.0</td>\n",
       "    </tr>\n",
       "    <tr>\n",
       "      <th>12350</th>\n",
       "      <td>0.0</td>\n",
       "      <td>0.0</td>\n",
       "      <td>0.0</td>\n",
       "      <td>0.0</td>\n",
       "      <td>0.0</td>\n",
       "      <td>0.0</td>\n",
       "      <td>0.0</td>\n",
       "      <td>0.0</td>\n",
       "      <td>0.0</td>\n",
       "      <td>0.0</td>\n",
       "      <td>...</td>\n",
       "      <td>0.0</td>\n",
       "      <td>0.0</td>\n",
       "      <td>0.0</td>\n",
       "      <td>0.0</td>\n",
       "      <td>0.0</td>\n",
       "      <td>0.0</td>\n",
       "      <td>0.0</td>\n",
       "      <td>0.0</td>\n",
       "      <td>0.0</td>\n",
       "      <td>0.0</td>\n",
       "    </tr>\n",
       "    <tr>\n",
       "      <th>12352</th>\n",
       "      <td>0.0</td>\n",
       "      <td>0.0</td>\n",
       "      <td>0.0</td>\n",
       "      <td>0.0</td>\n",
       "      <td>0.0</td>\n",
       "      <td>0.0</td>\n",
       "      <td>0.0</td>\n",
       "      <td>0.0</td>\n",
       "      <td>0.0</td>\n",
       "      <td>0.0</td>\n",
       "      <td>...</td>\n",
       "      <td>0.0</td>\n",
       "      <td>0.0</td>\n",
       "      <td>0.0</td>\n",
       "      <td>0.0</td>\n",
       "      <td>0.0</td>\n",
       "      <td>0.0</td>\n",
       "      <td>0.0</td>\n",
       "      <td>0.0</td>\n",
       "      <td>0.0</td>\n",
       "      <td>0.0</td>\n",
       "    </tr>\n",
       "  </tbody>\n",
       "</table>\n",
       "<p>5 rows × 3352 columns</p>\n",
       "</div>"
      ],
      "text/plain": [
       "description  10 COLOUR SPACEBOY PEN  12 COLOURED PARTY BALLOONS  \\\n",
       "CustomerID                                                        \n",
       "12346                           0.0                         0.0   \n",
       "12347                           0.0                         0.0   \n",
       "12348                           0.0                         0.0   \n",
       "12350                           0.0                         0.0   \n",
       "12352                           0.0                         0.0   \n",
       "\n",
       "description  12 DAISY PEGS IN WOOD BOX  12 EGG HOUSE PAINTED WOOD  \\\n",
       "CustomerID                                                          \n",
       "12346                              0.0                        0.0   \n",
       "12347                              0.0                        0.0   \n",
       "12348                              0.0                        0.0   \n",
       "12350                              0.0                        0.0   \n",
       "12352                              0.0                        0.0   \n",
       "\n",
       "description  12 IVORY ROSE PEG PLACE SETTINGS  \\\n",
       "CustomerID                                      \n",
       "12346                                     0.0   \n",
       "12347                                     0.0   \n",
       "12348                                     0.0   \n",
       "12350                                     0.0   \n",
       "12352                                     0.0   \n",
       "\n",
       "description  12 MESSAGE CARDS WITH ENVELOPES  12 PENCIL SMALL TUBE WOODLAND  \\\n",
       "CustomerID                                                                    \n",
       "12346                                    0.0                            0.0   \n",
       "12347                                    0.0                            0.0   \n",
       "12348                                    0.0                            0.0   \n",
       "12350                                    0.0                            0.0   \n",
       "12352                                    0.0                            0.0   \n",
       "\n",
       "description  12 PENCILS SMALL TUBE RED RETROSPOT  12 PENCILS SMALL TUBE SKULL  \\\n",
       "CustomerID                                                                      \n",
       "12346                                        0.0                          0.0   \n",
       "12347                                        0.0                          0.0   \n",
       "12348                                        0.0                          0.0   \n",
       "12350                                        0.0                          0.0   \n",
       "12352                                        0.0                          0.0   \n",
       "\n",
       "description  12 PENCILS TALL TUBE POSY                ...                 \\\n",
       "CustomerID                                            ...                  \n",
       "12346                              0.0                ...                  \n",
       "12347                              0.0                ...                  \n",
       "12348                              0.0                ...                  \n",
       "12350                              0.0                ...                  \n",
       "12352                              0.0                ...                  \n",
       "\n",
       "description  ZINC STAR T-LIGHT HOLDER   ZINC SWEETHEART SOAP DISH  \\\n",
       "CustomerID                                                          \n",
       "12346                              0.0                        0.0   \n",
       "12347                              0.0                        0.0   \n",
       "12348                              0.0                        0.0   \n",
       "12350                              0.0                        0.0   \n",
       "12352                              0.0                        0.0   \n",
       "\n",
       "description  ZINC SWEETHEART WIRE LETTER RACK  ZINC T-LIGHT HOLDER STAR LARGE  \\\n",
       "CustomerID                                                                      \n",
       "12346                                     0.0                             0.0   \n",
       "12347                                     0.0                             0.0   \n",
       "12348                                     0.0                             0.0   \n",
       "12350                                     0.0                             0.0   \n",
       "12352                                     0.0                             0.0   \n",
       "\n",
       "description  ZINC T-LIGHT HOLDER STARS LARGE  ZINC T-LIGHT HOLDER STARS SMALL  \\\n",
       "CustomerID                                                                      \n",
       "12346                                    0.0                              0.0   \n",
       "12347                                    0.0                              0.0   \n",
       "12348                                    0.0                              0.0   \n",
       "12350                                    0.0                              0.0   \n",
       "12352                                    0.0                              0.0   \n",
       "\n",
       "description  ZINC TOP  2 DOOR WOODEN SHELF   ZINC WILLIE WINKIE  CANDLE STICK  \\\n",
       "CustomerID                                                                      \n",
       "12346                                   0.0                               0.0   \n",
       "12347                                   0.0                               0.0   \n",
       "12348                                   0.0                               0.0   \n",
       "12350                                   0.0                               0.0   \n",
       "12352                                   0.0                               0.0   \n",
       "\n",
       "description  ZINC WIRE KITCHEN ORGANISER  ZINC WIRE SWEETHEART LETTER TRAY  \n",
       "CustomerID                                                                  \n",
       "12346                                0.0                               0.0  \n",
       "12347                                0.0                               0.0  \n",
       "12348                                0.0                               0.0  \n",
       "12350                                0.0                               0.0  \n",
       "12352                                0.0                               0.0  \n",
       "\n",
       "[5 rows x 3352 columns]"
      ]
     },
     "execution_count": 8,
     "metadata": {},
     "output_type": "execute_result"
    }
   ],
   "source": [
    "customer_stock_matrix.head()"
   ]
  },
  {
   "cell_type": "code",
   "execution_count": 9,
   "metadata": {
    "scrolled": true
   },
   "outputs": [
    {
     "data": {
      "text/plain": [
       "(2931, 3352)"
      ]
     },
     "execution_count": 9,
     "metadata": {},
     "output_type": "execute_result"
    }
   ],
   "source": [
    "customer_stock_matrix.shape"
   ]
  },
  {
   "cell_type": "markdown",
   "metadata": {},
   "source": [
    "## 3. レコメンデーション用の関数を作成"
   ]
  },
  {
   "cell_type": "markdown",
   "metadata": {},
   "source": [
    "### レコメンドする関数を作成する\n",
    "\n",
    "<b>ある顧客に対して、新たな商品をレコメンデーションする関数を完成させる</b>"
   ]
  },
  {
   "cell_type": "code",
   "execution_count": 10,
   "metadata": {},
   "outputs": [],
   "source": [
    "def recommend(target_customer_id, customer_stock_matrix, user_top_N, recommend_top_N):\n",
    "    \n",
    "    # customer_stock_matrixから、index, columns, 行列を取得する\n",
    "    stock_list = customer_stock_matrix.columns\n",
    "    customer_list = customer_stock_matrix.index\n",
    "    customer_stock_matrix_array = np.array(customer_stock_matrix)\n",
    "    \n",
    "    # レコメンドしたい顧客IDを引数とした際に、顧客リストから、レコメンドしたい顧客のindexを取り出す\n",
    "    for index in range(len(customer_list)):\n",
    "        if customer_list[index] == target_customer_id:\n",
    "            target_customer_index = index\n",
    "    \n",
    "    # レコメンドしたい顧客と、全顧客との類似度を計算する\n",
    "    user_similarity = []\n",
    "    target_user_row = customer_stock_matrix_array[target_customer_index]\n",
    "    \n",
    "    for row in customer_stock_matrix_array:\n",
    "        # cosine類似度　= 1 - cosine距離\n",
    "        similarity = 1 - sp.distance.cosine(target_user_row, row)\n",
    "        user_similarity.append(similarity)\n",
    "\n",
    "    user_similarity = np.array(user_similarity)\n",
    "    \n",
    "    # レコメンドしたい顧客に対し、コサイン類似度の高いユーザー上位N人を対象に、商品の平均類似度を計算する\n",
    "    \n",
    "    ## ユーザー上位N人の類似度と購入数量行列を取得する\n",
    "    idx = user_similarity.argsort()[::-1][1:user_top_N + 1]\n",
    "    selected_user_similarity = user_similarity[idx]\n",
    "    selected_matrix = customer_stock_matrix_array[idx]\n",
    "    \n",
    "    ## ユーザー上位N人を対象に、商品ごとの平均類似度を計算する\n",
    "    avg_score = []\n",
    "    for col_idx in range(selected_matrix.shape[1]):\n",
    "        weight_score = sum(selected_matrix[:, col_idx] * selected_user_similarity)\n",
    "        similarity_sum = sum(selected_user_similarity[selected_user_similarity > 0])\n",
    "        avg_score.append(weight_score / similarity_sum)\n",
    "    avg_score = np.array(avg_score)\n",
    "    \n",
    "    # レコメンドする必要がない、既に購入済の商品リストを抽出する\n",
    "    already_ordered_product = stock_list[np.where(customer_stock_matrix[customer_stock_matrix.index == target_customer_id])[1]]\n",
    "    \n",
    "    # 平均類度の高い上位N商品をオススメとして表示する\n",
    "    counter = 0\n",
    "    print(\"■レコメンド商品リスト:\")\n",
    "    for recommended_product in stock_list[avg_score.argsort()[::-1]]:\n",
    "        if recommended_product not in already_ordered_product:\n",
    "            print(counter + 1 ,recommended_product)\n",
    "            counter += 1\n",
    "            if recommend_top_N <= counter:\n",
    "                break"
   ]
  },
  {
   "cell_type": "code",
   "execution_count": 11,
   "metadata": {
    "scrolled": false
   },
   "outputs": [
    {
     "name": "stdout",
     "output_type": "stream",
     "text": [
      "■レコメンド商品リスト:\n",
      "1 GRAND CHOCOLATECANDLE\n",
      "2 SMALL CERAMIC TOP STORAGE JAR \n",
      "3 LARGE CERAMIC TOP STORAGE JAR\n",
      "4 COFFEE MUG CAT + BIRD DESIGN\n",
      "5 JAM JAR WITH PINK LID\n",
      "6 PACK OF 72 RETROSPOT CAKE CASES\n",
      "7 JAM MAKING SET PRINTED\n",
      "8 GREEN REGENCY TEACUP AND SAUCER\n",
      "9 ROSES REGENCY TEACUP AND SAUCER \n",
      "10 REGENCY TEA PLATE GREEN \n"
     ]
    }
   ],
   "source": [
    "# 関数の実行 (ある顧客に対するレコメンド商品・上位10商品を表示する)\n",
    "# 引数は対象の顧客ID, 顧客ID×商品コードのテーブル、類似度の高い上位ユーザー数、類似度の高い上位商品数\n",
    "recommend('12346', customer_stock_matrix, 20, 10)"
   ]
  },
  {
   "cell_type": "code",
   "execution_count": null,
   "metadata": {},
   "outputs": [],
   "source": []
  }
 ],
 "metadata": {
  "kernelspec": {
   "display_name": "Python 3",
   "language": "python",
   "name": "python3"
  },
  "language_info": {
   "codemirror_mode": {
    "name": "ipython",
    "version": 3
   },
   "file_extension": ".py",
   "mimetype": "text/x-python",
   "name": "python",
   "nbconvert_exporter": "python",
   "pygments_lexer": "ipython3",
   "version": "3.7.1"
  }
 },
 "nbformat": 4,
 "nbformat_minor": 2
}
